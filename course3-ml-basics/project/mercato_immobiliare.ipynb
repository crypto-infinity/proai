{
 "cells": [
  {
   "cell_type": "markdown",
   "metadata": {},
   "source": [
    "# Un modello di previsione per il mercato immobiliare"
   ]
  },
  {
   "cell_type": "markdown",
   "metadata": {},
   "source": [
    "RealEstateAI Solutions si propone di ottimizzare la valutazione dei prezzi immobiliari attraverso l'uso di tecniche avanzate di regolarizzazione in modelli di regressione lineare. L'obiettivo è fornire previsioni di prezzo più accurate e affidabili, riducendo il rischio di overfitting e migliorando la capacità di generalizzazione del modello.\n",
    "\n",
    "RealEstateAI Solutions si propone di ottimizzare la valutazione dei prezzi immobiliari attraverso l'uso di tecniche avanzate di regolarizzazione in modelli di regressione lineare. L'obiettivo è fornire previsioni di prezzo più accurate e affidabili, riducendo il rischio di overfitting e migliorando la capacità di generalizzazione del modello.\n",
    "\n",
    "Implementando e confrontando metodi di regolarizzazione come Lasso, Ridge e Elastic Net, RealEstateAI Solutions offrirà un sistema in grado di fornire previsioni di prezzo immobiliari più accurate e stabili. Questo permetterà agli agenti immobiliari e agli investitori di prendere decisioni basate su dati più affidabili, aumentando la loro competitività nel mercato."
   ]
  },
  {
   "cell_type": "markdown",
   "metadata": {},
   "source": [
    "# Requisiti del progetto"
   ]
  },
  {
   "cell_type": "markdown",
   "metadata": {},
   "source": [
    "## Fasi del Progetto\n",
    "\n",
    "### Preparazione del Dataset\n",
    "- Caricamento e preprocessamento dei dati sui prezzi immobiliari.\n",
    "- Gestione dei valori mancanti, codifica delle variabili categoriche e normalizzazione/scalatura dei dati.\n",
    "\n",
    "### Implementazione dei Modelli di Regressione\n",
    "- **Ridge Regression:** Implementazione e addestramento del modello con regolarizzazione Ridge.\n",
    "- **Lasso Regression:** Implementazione e addestramento del modello con regolarizzazione Lasso.\n",
    "- **Elastic Net Regression:** Implementazione e addestramento del modello con regolarizzazione Elastic Net.\n",
    "\n",
    "### Valutazione delle Performance\n",
    "- Utilizzo di tecniche di validazione incrociata.\n",
    "- Calcolo del **Mean Squared Error (MSE)** per ciascun modello.\n",
    "- Confronto della complessità dei modelli valutando il numero di coefficienti non nulli.\n",
    "- Analisi e confronto dei risultati dei vari metodi di regolarizzazione.\n",
    "\n",
    "### Visualizzazione dei Risultati\n",
    "- Creazione di grafici per visualizzare e confrontare le performance dei modelli.\n",
    "- Visualizzazione della distribuzione dei residui per valutare l'adeguatezza del modello."
   ]
  },
  {
   "cell_type": "markdown",
   "metadata": {},
   "source": [
    "## Il Dataset"
   ]
  },
  {
   "cell_type": "markdown",
   "metadata": {},
   "source": [
    "* Price: il prezzo, il target da prevedere\n",
    "* Area: superficie dell’immobile - continuous\n",
    "* Bedrooms: numero di camere da letto - continuous\n",
    "* Bathrooms: numero di bagni - continuous\n",
    "* Stories: numero di piani - continuous\n",
    "* Mainroad: vale 1 se l’immobile affaccia su una strada principale, 0 altrimenti - ohe\n",
    "* guestroom: vale 1 se l’immobile ha una stanza degli ospiti, 0 altrimenti - ohe\n",
    "* basement: vale 1 se l’immobile ha un seminterrato, 0 altrimenti - ohe\n",
    "* hotwaterheating: vale 1 se l’immobile ha una caldaia, 0 altrimenti - ohe\n",
    "* airconditioning: vale 1 se l’immobile ha l’aria condizionata, 0 altrimenti - ohe\n",
    "* parking: numero di parcheggi - ordinal\n",
    "* prefarea: vale 1 se l’immobile è in una zona prestigiosa, 0 altrimenti - ohe\n",
    "* Furnishingstatus: vale 0 se l’immobile non è arredato, 1 se è parzialmente arredato, 2 se è completamente arredato - ordinal"
   ]
  },
  {
   "cell_type": "markdown",
   "metadata": {},
   "source": [
    "# Implementazione"
   ]
  },
  {
   "cell_type": "markdown",
   "metadata": {},
   "source": [
    "Il progetto implementa un'analisi avanzata per il **mercato immobiliare**, con l'obiettivo di prevedere i prezzi delle proprietà utilizzando modelli di regressione e tecniche di regolarizzazione."
   ]
  },
  {
   "cell_type": "markdown",
   "metadata": {},
   "source": [
    "## Importazione e gestione dei prerequisiti e delle dipendenze"
   ]
  },
  {
   "cell_type": "markdown",
   "metadata": {},
   "source": [
    "Descrizione"
   ]
  },
  {
   "cell_type": "code",
   "execution_count": null,
   "metadata": {},
   "outputs": [],
   "source": [
    "# Dependencies\n",
    "\n",
    "# General\n",
    "\n",
    "import pandas as pd\n",
    "import numpy as np\n",
    "import matplotlib.pyplot as plt\n",
    "import seaborn as sns\n",
    "\n",
    "# Scikit Learn Metrics\n",
    "\n",
    "from sklearn.metrics import mean_squared_error, r2_score"
   ]
  },
  {
   "cell_type": "code",
   "execution_count": null,
   "metadata": {},
   "outputs": [],
   "source": [
    "sns.set_theme(style=\"whitegrid\")"
   ]
  },
  {
   "cell_type": "markdown",
   "metadata": {},
   "source": [
    "## Importazione del Dataset"
   ]
  },
  {
   "cell_type": "markdown",
   "metadata": {},
   "source": [
    "Il dataset rappresenta un insieme di osservazioni di unità immobiliari. Il dataset traccia alcune features caratteristiche di un immobile, come:\n",
    "\n",
    "* Area: superficie dell’immobile\n",
    "* Bedrooms: numero di camere da letto\n",
    "* Bathrooms: numero di bagni\n",
    "* Stories: numero di piani\n",
    "* Mainroad: vale 1 se l’immobile affaccia su una strada principale, 0 altrimenti\n",
    "* guestroom: vale 1 se l’immobile ha una stanza degli ospiti, 0 altrimenti\n",
    "* basement: vale 1 se l’immobile ha un seminterrato, 0 altrimenti\n",
    "* hotwaterheating: vale 1 se l’immobile ha una caldaia, 0 altrimenti\n",
    "* airconditioning: vale 1 se l’immobile ha l’aria condizionata, 0 altrimenti\n",
    "* parking: numero di parcheggi\n",
    "* prefarea: vale 1 se l’immobile è in una zona prestigiosa, 0 altrimenti\n",
    "* Furnishingstatus: vale 0 se l’immobile non è arredato, 1 se è parzialmente arredato, 2 se è completamente arredato\n",
    "\n",
    "e ne traccia il relativo prezzo, che è la nostra variabile target."
   ]
  },
  {
   "cell_type": "markdown",
   "metadata": {},
   "source": [
    "Non potendo contare su una conoscenza di dominio specifica e non potendo effettuare ulteriori analisi sui dati, i dati verranno analizzati direttamente come forniti. Di seguito carichiamo il dataset e ne mostriamo un estratto:"
   ]
  },
  {
   "cell_type": "code",
   "execution_count": null,
   "metadata": {},
   "outputs": [],
   "source": [
    "df = pd.read_csv('data/housing.csv')\n",
    "\n",
    "df.head(10)"
   ]
  },
  {
   "cell_type": "markdown",
   "metadata": {},
   "source": [
    "## Preparazione del dataset"
   ]
  },
  {
   "cell_type": "markdown",
   "metadata": {},
   "source": [
    "Verranno immediatamente applicate alcune tecniche di riduzione della dimensionalità, come la feature selection tramite matrice di correlazione. Questo ci consentirà di rimuovere dati superflui e poco informativi.\n",
    "\n",
    "Le features sono tutte di tipo numerico, e sono quindi confrontabili direttamente tramite coefficiente di Pearson:"
   ]
  },
  {
   "cell_type": "code",
   "execution_count": null,
   "metadata": {},
   "outputs": [],
   "source": [
    "# Feature Correlation Analysis for numerical variables\n",
    "\n",
    "plt.figure(figsize=(15, 8))\n",
    "\n",
    "sns.heatmap(df.corr(method=\"pearson\"), annot=True, cmap='coolwarm', linewidths=0.5)\n",
    "plt.show()"
   ]
  },
  {
   "cell_type": "markdown",
   "metadata": {},
   "source": [
    "Dall'analisi della matrice sopra mostrata, le features sembrano avere quasi tutte un impatto quantomeno discreto sul target. \n",
    "\n",
    "Fa eccezione la feature \"hotwaterheating\", che possiede una *bassa* correlazione non solo con il prezzo, ma anche con le altre. Considerando che, almeno usualmente, se l'immobile non possiede una caldaia il riscaldamento è di tipo centralizzato (influendo intuitivamente poco sul prezzo di acquisto/affitto), essa viene rimossa dal dataset:"
   ]
  },
  {
   "cell_type": "code",
   "execution_count": null,
   "metadata": {},
   "outputs": [],
   "source": [
    "df = df.drop(['hotwaterheating'], axis=1)"
   ]
  },
  {
   "cell_type": "markdown",
   "metadata": {},
   "source": [
    "Verranno effettuati ulteriori passaggi di feature selection più avanti, tramite regolarizzazione post-fitting dei modelli di regressione che verranno prodotti."
   ]
  },
  {
   "cell_type": "markdown",
   "metadata": {},
   "source": [
    "### Verifica della distribuzione del target"
   ]
  },
  {
   "cell_type": "markdown",
   "metadata": {},
   "source": []
  },
  {
   "cell_type": "code",
   "execution_count": null,
   "metadata": {},
   "outputs": [],
   "source": [
    "sns.boxplot(df[\"price\"])\n",
    "plt.title(\"Distribuzione del target\")\n",
    "plt.show()"
   ]
  },
  {
   "cell_type": "markdown",
   "metadata": {},
   "source": [
    "### Analisi dei valori NA e Null del dataset"
   ]
  },
  {
   "cell_type": "markdown",
   "metadata": {},
   "source": [
    "Viene ora effettuata un'analisi sui dati mancanti: "
   ]
  },
  {
   "cell_type": "code",
   "execution_count": null,
   "metadata": {},
   "outputs": [],
   "source": [
    "df.isna().sum()"
   ]
  },
  {
   "cell_type": "markdown",
   "metadata": {},
   "source": [
    "Dati i risultati della funzione isna() di Pandas, si può affermare che il dataset non ne riporta. Non è quindi necessario effettuare imputazioni o rimozioni di features/osservazioni particolari."
   ]
  },
  {
   "cell_type": "markdown",
   "metadata": {},
   "source": [
    "### Train-test Split"
   ]
  },
  {
   "cell_type": "markdown",
   "metadata": {},
   "source": [
    "Per evitare il data leakage, prima di qualsiasi modifica ai dati del dataset, viene effettuato un primo passaggio di Hold-Out per separare il train set dal test set."
   ]
  },
  {
   "cell_type": "code",
   "execution_count": null,
   "metadata": {},
   "outputs": [],
   "source": [
    "X = df.drop('price', axis = 1)\n",
    "y = df['price']"
   ]
  },
  {
   "cell_type": "code",
   "execution_count": null,
   "metadata": {},
   "outputs": [],
   "source": [
    "from sklearn.model_selection import train_test_split\n",
    "\n",
    "X_train, X_test, y_train, y_test = train_test_split(X, y, test_size=0.2)"
   ]
  },
  {
   "cell_type": "markdown",
   "metadata": {},
   "source": [
    "### Verifica di outliers e classi non bilanciate"
   ]
  },
  {
   "cell_type": "code",
   "execution_count": null,
   "metadata": {},
   "outputs": [],
   "source": [
    "df.describe()"
   ]
  },
  {
   "attachments": {
    "image.png": {
     "image/png": "[encoded data removed]"
    }
   },
   "cell_type": "markdown",
   "metadata": {},
   "source": [
    "Analizzando il contenuto e i valori statistici calcolati sui dati, osserviamo un discreto numero di osservazioni lontane dal valore medio per alcune features numeriche:\n",
    "\n",
    "![image.png](attachment:image.png)\n",
    "\n",
    "La rappresentazione delle distribuzioni sopra evidenziata conferma la presenza di classi sbilanciate. Tuttavia, essendo troppi pochi esempi, non risulta opportuno generare sample sintetici per bilanciarle."
   ]
  },
  {
   "cell_type": "markdown",
   "metadata": {},
   "source": [
    "### Analisi delle variabili categoriche e di trasformazioni possibili"
   ]
  },
  {
   "cell_type": "markdown",
   "metadata": {},
   "source": [
    "Come già accennato in precedenza, il dataset riporta valori esclusivamente numerici. Non risultano necessarie quindi trasformazioni di variabili categoriche come il One-Hot Encoding o il Label Encoding."
   ]
  },
  {
   "cell_type": "markdown",
   "metadata": {},
   "source": [
    "### Analisi delle variabili numeriche e scaling"
   ]
  },
  {
   "cell_type": "markdown",
   "metadata": {},
   "source": [
    "Risulta, invece, necessario effettuare lo scaling dei dati. Si opta per la standardizzazione, data la presenza di alcuni outliers verificata nei punti precedenti. Essa viene effettuata sulle variabili puramente numeriche e categoriche ordinali, poichè le features con due classi (codificate con LabelEncoding) non necessitano di tale operazione.\n",
    "\n",
    "Il passaggio viene effettuato qui sotto per il dataset di Hold-Out. La funzione di cross-validation, invece, gestirà lo scaling con i dati non scalati che riceverà in ingresso."
   ]
  },
  {
   "cell_type": "code",
   "execution_count": null,
   "metadata": {},
   "outputs": [],
   "source": [
    "from sklearn.preprocessing import StandardScaler\n",
    "\n",
    "ss = StandardScaler()\n",
    "\n",
    "X_train[X_train.columns] = ss.fit_transform(X_train[X_train.columns])\n",
    "X_test[X_test.columns] = ss.transform(X_test[X_test.columns])"
   ]
  },
  {
   "cell_type": "code",
   "execution_count": null,
   "metadata": {},
   "outputs": [],
   "source": [
    "X_train.describe()"
   ]
  },
  {
   "cell_type": "markdown",
   "metadata": {},
   "source": [
    "## Creazione dei modelli di Regressione"
   ]
  },
  {
   "cell_type": "markdown",
   "metadata": {},
   "source": [
    "Verranno ora creati e testati i modelli di regressione. Come da requisiti di progetto, verranno applicate le regolarizzazioni L2, L1 ed ElasticNet."
   ]
  },
  {
   "cell_type": "code",
   "execution_count": null,
   "metadata": {},
   "outputs": [],
   "source": [
    "from sklearn.linear_model import Ridge\n",
    "from sklearn.linear_model import Lasso\n",
    "from sklearn.linear_model import ElasticNet\n",
    "\n",
    "from sklearn.model_selection import cross_val_score, KFold"
   ]
  },
  {
   "cell_type": "markdown",
   "metadata": {},
   "source": [
    "Definiamo quindi le funzioni di cross-validation e di validazione dei modelli con metriche di MSE, R2 e RMSE:"
   ]
  },
  {
   "cell_type": "code",
   "execution_count": null,
   "metadata": {},
   "outputs": [],
   "source": [
    "# Validazione delle performance del modello\n",
    "\n",
    "def evaluate_model(model, dataset, message=None, delog=False, verbose=False):\n",
    "    X, Y = dataset\n",
    "\n",
    "    if delog:\n",
    "        Y_pred = np.expm1(model.predict(X))\n",
    "    else:\n",
    "        Y_pred = model.predict(X)\n",
    "\n",
    "    if verbose:\n",
    "        if message:\n",
    "            print(message)\n",
    "            \n",
    "        print(\"Primi 5 valori reali:\", Y[:5])\n",
    "        print(\"Primi 5 valori predetti:\", Y_pred[:5])\n",
    "\n",
    "        print(\"\\n\")\n",
    "\n",
    "        print(f\"MSE: {mse}\")\n",
    "        print(f\"R2: {r2}\")\n",
    "        print(f\"RMSE: {rmse}\")\n",
    "        print(\"\\n\")\n",
    "    \n",
    "    mse = mean_squared_error(Y, Y_pred)\n",
    "    r2 = r2_score(Y, Y_pred)\n",
    "    rmse = np.sqrt(mse)\n",
    "\n",
    "    return mse, r2, rmse"
   ]
  },
  {
   "cell_type": "code",
   "execution_count": null,
   "metadata": {},
   "outputs": [],
   "source": [
    "from sklearn.pipeline import Pipeline\n",
    "\n",
    "def cross_validation(X, Y, cv=5, pipeline=None):\n",
    "\n",
    "    kf = KFold(n_splits=cv, shuffle=True)\n",
    "\n",
    "    train_mse = []\n",
    "    train_r2 = []\n",
    "    train_rmse = []\n",
    "\n",
    "    test_mse = []\n",
    "    test_r2 = []\n",
    "    test_rmse = []\n",
    "\n",
    "    if pipeline is None:\n",
    "        model = Pipeline([\n",
    "            (\"lasso\", Lasso())\n",
    "        ])\n",
    "    else:\n",
    "        model = pipeline\n",
    "\n",
    "    X = X.values\n",
    "    Y = Y.values\n",
    "\n",
    "    for train_index, test_index in kf.split(X):\n",
    "\n",
    "        X_train_split, X_test_split = X[train_index], X[test_index]\n",
    "        Y_train_split, Y_test_split = Y[train_index], Y[test_index]\n",
    "\n",
    "        ss = StandardScaler()\n",
    "        X_train_split = ss.fit_transform(X_train_split)\n",
    "        X_test_split = ss.transform(X_test_split)\n",
    "\n",
    "        model.fit(X_train_split, Y_train_split)\n",
    "        \n",
    "        mse_train, r2_train, rmse_train = evaluate_model(model, (X_train_split, Y_train_split))\n",
    "        mse_test, r2_test, rmse_test = evaluate_model(model, (X_test_split, Y_test_split))\n",
    "\n",
    "        train_mse.append(mse_train)\n",
    "        train_r2.append(r2_train)\n",
    "        train_rmse.append(rmse_train)\n",
    "\n",
    "        test_mse.append(mse_test)\n",
    "        test_r2.append(r2_test)\n",
    "        test_rmse.append(rmse_test)\n",
    "        \n",
    "    return train_mse, train_r2, train_rmse, test_mse, test_r2, test_rmse"
   ]
  },
  {
   "cell_type": "markdown",
   "metadata": {},
   "source": [
    "E definiamo ora una lista di differenti configurazioni dei tre metodi di regolarizzazione con diversi parametri di Lambda:"
   ]
  },
  {
   "cell_type": "code",
   "execution_count": null,
   "metadata": {},
   "outputs": [],
   "source": [
    "# Model configurations\n",
    "\n",
    "configs = [\n",
    "    Ridge(),\n",
    "    Ridge(alpha=10),\n",
    "    Ridge(alpha=20),\n",
    "    Ridge(alpha=30),\n",
    "    Lasso(),\n",
    "    Lasso(alpha=0.1),\n",
    "    Lasso(alpha=0.5),\n",
    "    Lasso(alpha=5),\n",
    "    Lasso(alpha=10),\n",
    "    Lasso(alpha=20),\n",
    "    ElasticNet(),\n",
    "    ElasticNet(alpha=3, l1_ratio=0.5),\n",
    "    ElasticNet(alpha=5, l1_ratio=0.5)\n",
    "]"
   ]
  },
  {
   "cell_type": "markdown",
   "metadata": {},
   "source": [
    "Effettuiamo ora le validazioni incrociate di Cross Validation sull'intero dataset, e di Hold-out sullo split effettuato alla sezione Train-Test Split:"
   ]
  },
  {
   "cell_type": "code",
   "execution_count": null,
   "metadata": {},
   "outputs": [],
   "source": [
    "for config in configs:\n",
    "    print(f\"Testing config {config} with cross-validation:\\n\")\n",
    "\n",
    "    train_mse, train_r2, train_rmse, test_mse, test_r2, test_rmse = cross_validation(X, y, pipeline=config)\n",
    "\n",
    "    print(f\"Train Set MSE: {np.mean(train_mse)}\")\n",
    "    print(f\"Train Set R2: {np.mean(train_r2)}\")\n",
    "    print(f\"Train Set RMSE: {np.mean(train_rmse)}\")\n",
    "\n",
    "    print(\"\\n\")\n",
    "\n",
    "    print(f\"Test Set MSE: {np.mean(test_mse)}\")\n",
    "    print(f\"Test Set R2: {np.mean(test_r2)}\")\n",
    "    print(f\"Test Set RMSE: {np.mean(test_rmse)}\")\n",
    "\n",
    "    print(\"\\n\")"
   ]
  },
  {
   "cell_type": "code",
   "execution_count": null,
   "metadata": {},
   "outputs": [],
   "source": [
    "for config in configs:\n",
    "    print(f\"Testing config {config} with hold-out:\\n\")\n",
    "\n",
    "    model = config\n",
    "\n",
    "    model.fit(X_train, y_train)\n",
    "\n",
    "    mse_train, r2_train, rmse_train = evaluate_model(model, (X_train, y_train))\n",
    "    mse_test, r2_test, rmse_test = evaluate_model(model, (X_test, y_test))\n",
    "\n",
    "    print(f\"Train Set MSE: {mse_train}\")\n",
    "    print(f\"Train Set R2: {r2_train}\")\n",
    "    print(f\"Train Set RMSE: {rmse_train}\")\n",
    "\n",
    "    print(\"\\n\")\n",
    "\n",
    "    print(f\"Test Set MSE: {mse_test}\")\n",
    "    print(f\"Test Set R2: {r2_test}\")\n",
    "    print(f\"Test Set RMSE: {rmse_test}\")\n",
    "\n",
    "    print(\"\\n\")"
   ]
  },
  {
   "cell_type": "markdown",
   "metadata": {},
   "source": [
    "Le metriche sembrano mostrare risultati migliori per la regolarizzazione L1 (Lasso), che rimangono stabili anche testando diverse magnitudo di lambda.\n",
    "Osserviamo, inoltre, che producono risultati interessanti anche limitandoci all'hold-out."
   ]
  },
  {
   "cell_type": "code",
   "execution_count": null,
   "metadata": {},
   "outputs": [],
   "source": [
    "final_model = Lasso(alpha=0.5)\n",
    "\n",
    "final_model.fit(X, y)\n",
    "\n",
    "evaluate_model(model, (X, y), message=\"Modello finale\")"
   ]
  },
  {
   "cell_type": "markdown",
   "metadata": {},
   "source": [
    "### Controllo della complessità dei modelli"
   ]
  },
  {
   "cell_type": "markdown",
   "metadata": {},
   "source": [
    "Verranno ora visualizzati i coefficienti delle regolarizzazioni effettuate nei passaggi precedenti, per i modelli Hold-Out:"
   ]
  },
  {
   "cell_type": "code",
   "execution_count": null,
   "metadata": {},
   "outputs": [],
   "source": [
    "coeffs = final_model.coef_\n",
    "\n",
    "coeffs"
   ]
  }
 ],
 "metadata": {
  "kernelspec": {
   "display_name": ".venv",
   "language": "python",
   "name": "python3"
  },
  "language_info": {
   "codemirror_mode": {
    "name": "ipython",
    "version": 3
   },
   "file_extension": ".py",
   "mimetype": "text/x-python",
   "name": "python",
   "nbconvert_exporter": "python",
   "pygments_lexer": "ipython3",
   "version": "3.12.2"
  }
 },
 "nbformat": 4,
 "nbformat_minor": 2
}
