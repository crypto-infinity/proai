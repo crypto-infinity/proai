{
 "cells": [
  {
   "cell_type": "code",
   "execution_count": 1,
   "metadata": {},
   "outputs": [],
   "source": [
    "# dipendenze\n",
    "import pandas as pd\n",
    "import numpy as np\n",
    "import matplotlib.pyplot as plt\n",
    "import seaborn as sns\n",
    "\n",
    "from sklearn.model_selection import train_test_split\n",
    "from sklearn.preprocessing import StandardScaler\n",
    "from sklearn.linear_model import LinearRegression\n",
    "from sklearn.metrics import mean_squared_error, r2_score\n",
    "from sklearn.preprocessing import PolynomialFeatures"
   ]
  },
  {
   "cell_type": "code",
   "execution_count": null,
   "metadata": {},
   "outputs": [],
   "source": [
    "# import dataset\n",
    "\n",
    "CSV_PATH = \"../sample_data/housing.csv\"\n",
    "\n",
    "df = pd.read_csv(CSV_PATH, index_col=0)"
   ]
  },
  {
   "cell_type": "code",
   "execution_count": null,
   "metadata": {},
   "outputs": [],
   "source": [
    "# correlation matrix\n",
    "\n",
    "df.corr()"
   ]
  },
  {
   "cell_type": "code",
   "execution_count": null,
   "metadata": {},
   "outputs": [],
   "source": [
    "# heatmap\n",
    "\n",
    "def heatmap(df):\n",
    "    plt.figure(figsize=(12, 8))\n",
    "    sns.heatmap(df.corr(), annot=True, cmap='coolwarm')\n",
    "    plt.show()\n",
    "\n",
    "heatmap(df)"
   ]
  },
  {
   "cell_type": "code",
   "execution_count": null,
   "metadata": {},
   "outputs": [],
   "source": [
    "# simple linear regression with highest feature correlation\n",
    "\n",
    "X = df[['LSTAT']]\n",
    "Y = df[\"PRICE\"]\n",
    "\n",
    "regressor = LinearRegression()\n",
    "\n",
    "regressor.fit(X , Y)\n",
    "\n",
    "Y_pred = regressor.predict(X)\n",
    "\n",
    "# plot MSE and R2\n",
    "\n",
    "def plot_mse_r2(Y, Y_pred, X=None, degree=1):\n",
    "    mse = mean_squared_error(Y, Y_pred)\n",
    "    r2 = r2_score(Y, Y_pred)\n",
    "\n",
    "\n",
    "    if X is not None:\n",
    "        plt.plot(X, Y_pred, c=\"red\")\n",
    "        plt.scatter(X, Y, color=\"lightblue\", s=10)\n",
    "    plt.title(\"Predicted prices\")\n",
    "    if(degree > 1): plt.title(f\"Predicted prices - Degree {degree}\")\n",
    "    plt.text(23, 45, f\"MSE: {mse}\\nR2: {r2}\")\n",
    "    plt.show()\n",
    "\n",
    "plot_mse_r2(Y, Y_pred, X=X)"
   ]
  },
  {
   "cell_type": "code",
   "execution_count": null,
   "metadata": {},
   "outputs": [],
   "source": [
    "# polinomial regression with graph\n",
    "\n",
    "def polinomial_regression(X, Y, degree=5):\n",
    "    poly = PolynomialFeatures(degree=degree)\n",
    "    X_poly = poly.fit_transform(X)\n",
    "\n",
    "    regressor.fit(X_poly, Y)\n",
    "\n",
    "    Y_pred = regressor.predict(X_poly)\n",
    "\n",
    "    # sort X and Y_pred\n",
    "    sorted_indices = np.argsort(X.flatten())\n",
    "    X_sorted = X.flatten()[sorted_indices]\n",
    "    Y_pred_sorted = Y_pred[sorted_indices]\n",
    "\n",
    "\n",
    "    plt.plot(X_sorted, Y_pred_sorted, c=\"red\")\n",
    "    plt.scatter(X, Y, color=\"lightblue\", s=10)\n",
    "    plt.title(f\"Predicted prices - Degree {degree}\")\n",
    "    plt.text(23, 45, f\"MSE: {mean_squared_error(Y, Y_pred)}\\nR2: {r2_score(Y, Y_pred)}\")\n",
    "    plt.show()\n",
    "\n",
    "X = df[['LSTAT']].values\n",
    "Y = df[\"PRICE\"].values\n",
    "\n",
    "polinomial_regression(X, Y, degree=7)"
   ]
  },
  {
   "cell_type": "code",
   "execution_count": null,
   "metadata": {},
   "outputs": [],
   "source": [
    "# multiple linear regression with the two most correlated features to target\n",
    "\n",
    "X = df[['LSTAT', 'RM']]\n",
    "Y = df[\"PRICE\"]\n",
    "\n",
    "regressor.fit(X , Y)\n",
    "\n",
    "Y_pred = regressor.predict(X)"
   ]
  },
  {
   "cell_type": "code",
   "execution_count": null,
   "metadata": {},
   "outputs": [],
   "source": [
    "# polinomial regression with the three most correlated features\n",
    "\n",
    "X_cols = df[[\"LSTAT\", \"RM\", \"PTRATIO\"]]\n",
    "Y = df[\"PRICE\"]\n",
    "\n",
    "degrees = [2, 3, 4, 5]\n",
    "\n",
    "for degree in degrees:\n",
    "    poly = PolynomialFeatures(degree=degree)\n",
    "\n",
    "    X = poly.fit_transform(X_cols)\n",
    "\n",
    "    regressor.fit(X, Y)\n",
    "\n",
    "    Y_pred = regressor.predict(X)"
   ]
  },
  {
   "cell_type": "code",
   "execution_count": null,
   "metadata": {},
   "outputs": [],
   "source": [
    "# polinomial regression without bias\n",
    "\n",
    "X_cols = df[[\"LSTAT\", \"RM\", \"PTRATIO\"]]\n",
    "Y = df[\"PRICE\"]\n",
    "\n",
    "degrees = [2, 3, 4, 5]\n",
    "\n",
    "for degree in degrees:\n",
    "    poly = PolynomialFeatures(degree=degree, include_bias=False)\n",
    "\n",
    "    X = poly.fit_transform(X_cols)\n",
    "\n",
    "    regressor.fit(X, Y)\n",
    "\n",
    "    Y_pred = regressor.predict(X)"
   ]
  },
  {
   "cell_type": "code",
   "execution_count": null,
   "metadata": {},
   "outputs": [],
   "source": [
    "# linear regression with all features\n",
    "\n",
    "X = df.drop(\"PRICE\", axis=1)\n",
    "Y = df[\"PRICE\"]\n",
    "\n",
    "regressor.fit(X, Y)\n",
    "\n",
    "Y_pred = regressor.predict(X)"
   ]
  },
  {
   "cell_type": "code",
   "execution_count": null,
   "metadata": {},
   "outputs": [],
   "source": [
    "#normalization\n",
    "\n",
    "X_cols = df.drop(\"PRICE\", axis=1)\n",
    "Y = df[\"PRICE\"]\n",
    "\n",
    "X = (X_cols - X_cols.min()) / (X_cols.max() - X_cols.min())\n",
    "\n",
    "regressor.fit(X, Y)\n",
    "\n",
    "y_pred = regressor.predict(X)"
   ]
  },
  {
   "cell_type": "code",
   "execution_count": null,
   "metadata": {},
   "outputs": [],
   "source": [
    "# data standardization\n",
    "\n",
    "X_cols = df.drop(\"PRICE\", axis=1)\n",
    "Y = df[\"PRICE\"]\n",
    "\n",
    "scaler = StandardScaler()\n",
    "\n",
    "X = scaler.fit_transform(X_cols)\n",
    "\n",
    "regressor.fit(X, Y)\n",
    "\n",
    "Y_pred = regressor.predict(X)"
   ]
  },
  {
   "cell_type": "code",
   "execution_count": null,
   "metadata": {},
   "outputs": [],
   "source": [
    "# some predictions!\n",
    "\n",
    "X_pred = pd.read_csv(\"../sample_data/housing_predict.csv\")\n",
    "\n",
    "X = X_pred.drop(\"OWNER\", axis=1)\n",
    "\n",
    "X = scaler.transform(X)\n",
    "\n",
    "Y_pred = regressor.predict(X)\n",
    "\n",
    "Y_pred"
   ]
  },
  {
   "cell_type": "code",
   "execution_count": null,
   "metadata": {},
   "outputs": [],
   "source": [
    "# save results to excel\n",
    "\n",
    "to_save = pd.DataFrame()\n",
    "\n",
    "to_save[\"OWNER\"] = X_pred[\"OWNER\"]\n",
    "to_save[\"PRICE\"] = Y_pred\n",
    "\n",
    "to_save.to_excel(\"housing_predictions.xlsx\", index=False)"
   ]
  }
 ],
 "metadata": {
  "kernelspec": {
   "display_name": ".venv",
   "language": "python",
   "name": "python3"
  },
  "language_info": {
   "codemirror_mode": {
    "name": "ipython",
    "version": 3
   },
   "file_extension": ".py",
   "mimetype": "text/x-python",
   "name": "python",
   "nbconvert_exporter": "python",
   "pygments_lexer": "ipython3",
   "version": "3.12.2"
  }
 },
 "nbformat": 4,
 "nbformat_minor": 2
}
