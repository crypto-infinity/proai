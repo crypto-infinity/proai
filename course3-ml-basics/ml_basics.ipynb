{
 "cells": [
  {
   "cell_type": "code",
   "execution_count": 1,
   "metadata": {},
   "outputs": [],
   "source": [
    "# %pip install pandas\n",
    "# %pip install datasets"
   ]
  },
  {
   "cell_type": "code",
   "execution_count": 2,
   "metadata": {},
   "outputs": [
    {
     "name": "stderr",
     "output_type": "stream",
     "text": [
      "c:\\Repositories\\proai\\course3-ml-basics\\.venv\\Lib\\site-packages\\tqdm\\auto.py:21: TqdmWarning: IProgress not found. Please update jupyter and ipywidgets. See https://ipywidgets.readthedocs.io/en/stable/user_install.html\n",
      "  from .autonotebook import tqdm as notebook_tqdm\n"
     ]
    }
   ],
   "source": [
    "import pandas as pd\n",
    "from datasets import load_dataset\n",
    "\n"
   ]
  },
  {
   "cell_type": "code",
   "execution_count": 15,
   "metadata": {},
   "outputs": [],
   "source": [
    "#caricamento con huggingface.datasets\n",
    "\n",
    "# ds = load_dataset(\"Kwaai/IMDB_Sentiment\")\n",
    "# df = ds['train'].to_pandas()"
   ]
  },
  {
   "cell_type": "code",
   "execution_count": 4,
   "metadata": {},
   "outputs": [
    {
     "data": {
      "application/vnd.microsoft.datawrangler.viewer.v0+json": {
       "columns": [
        {
         "name": "index",
         "rawType": "int64",
         "type": "integer"
        },
        {
         "name": "taglia",
         "rawType": "object",
         "type": "string"
        },
        {
         "name": "colore",
         "rawType": "object",
         "type": "string"
        },
        {
         "name": "prezzo",
         "rawType": "float64",
         "type": "float"
        },
        {
         "name": "venduta",
         "rawType": "object",
         "type": "string"
        }
       ],
       "conversionMethod": "pd.DataFrame",
       "ref": "a71ec4c7-e546-42d3-a1fe-125e0642b4dc",
       "rows": [
        [
         "0",
         "S",
         "bianco",
         "4.99",
         "NO"
        ],
        [
         "1",
         "M",
         "bianco",
         "19.99",
         "SI"
        ],
        [
         "2",
         "XL",
         "bianco",
         "12.49",
         "NO"
        ],
        [
         "3",
         "XL",
         "bianco",
         "14.99",
         "NO"
        ],
        [
         "4",
         "S",
         "bianco",
         "14.99",
         "SI"
        ],
        [
         "5",
         "S",
         "verde",
         "7.99",
         "NO"
        ],
        [
         "6",
         "M",
         "verde",
         "4.99",
         "SI"
        ],
        [
         "7",
         "L",
         "verde",
         "12.49",
         "NO"
        ],
        [
         "8",
         "XL",
         "bianco",
         "12.49",
         "NO"
        ],
        [
         "9",
         "M",
         "verde",
         "19.99",
         "NO"
        ]
       ],
       "shape": {
        "columns": 4,
        "rows": 10
       }
      },
      "text/html": [
       "<div>\n",
       "<style scoped>\n",
       "    .dataframe tbody tr th:only-of-type {\n",
       "        vertical-align: middle;\n",
       "    }\n",
       "\n",
       "    .dataframe tbody tr th {\n",
       "        vertical-align: top;\n",
       "    }\n",
       "\n",
       "    .dataframe thead th {\n",
       "        text-align: right;\n",
       "    }\n",
       "</style>\n",
       "<table border=\"1\" class=\"dataframe\">\n",
       "  <thead>\n",
       "    <tr style=\"text-align: right;\">\n",
       "      <th></th>\n",
       "      <th>taglia</th>\n",
       "      <th>colore</th>\n",
       "      <th>prezzo</th>\n",
       "      <th>venduta</th>\n",
       "    </tr>\n",
       "  </thead>\n",
       "  <tbody>\n",
       "    <tr>\n",
       "      <th>0</th>\n",
       "      <td>S</td>\n",
       "      <td>bianco</td>\n",
       "      <td>4.99</td>\n",
       "      <td>NO</td>\n",
       "    </tr>\n",
       "    <tr>\n",
       "      <th>1</th>\n",
       "      <td>M</td>\n",
       "      <td>bianco</td>\n",
       "      <td>19.99</td>\n",
       "      <td>SI</td>\n",
       "    </tr>\n",
       "    <tr>\n",
       "      <th>2</th>\n",
       "      <td>XL</td>\n",
       "      <td>bianco</td>\n",
       "      <td>12.49</td>\n",
       "      <td>NO</td>\n",
       "    </tr>\n",
       "    <tr>\n",
       "      <th>3</th>\n",
       "      <td>XL</td>\n",
       "      <td>bianco</td>\n",
       "      <td>14.99</td>\n",
       "      <td>NO</td>\n",
       "    </tr>\n",
       "    <tr>\n",
       "      <th>4</th>\n",
       "      <td>S</td>\n",
       "      <td>bianco</td>\n",
       "      <td>14.99</td>\n",
       "      <td>SI</td>\n",
       "    </tr>\n",
       "    <tr>\n",
       "      <th>5</th>\n",
       "      <td>S</td>\n",
       "      <td>verde</td>\n",
       "      <td>7.99</td>\n",
       "      <td>NO</td>\n",
       "    </tr>\n",
       "    <tr>\n",
       "      <th>6</th>\n",
       "      <td>M</td>\n",
       "      <td>verde</td>\n",
       "      <td>4.99</td>\n",
       "      <td>SI</td>\n",
       "    </tr>\n",
       "    <tr>\n",
       "      <th>7</th>\n",
       "      <td>L</td>\n",
       "      <td>verde</td>\n",
       "      <td>12.49</td>\n",
       "      <td>NO</td>\n",
       "    </tr>\n",
       "    <tr>\n",
       "      <th>8</th>\n",
       "      <td>XL</td>\n",
       "      <td>bianco</td>\n",
       "      <td>12.49</td>\n",
       "      <td>NO</td>\n",
       "    </tr>\n",
       "    <tr>\n",
       "      <th>9</th>\n",
       "      <td>M</td>\n",
       "      <td>verde</td>\n",
       "      <td>19.99</td>\n",
       "      <td>NO</td>\n",
       "    </tr>\n",
       "  </tbody>\n",
       "</table>\n",
       "</div>"
      ],
      "text/plain": [
       "  taglia  colore  prezzo venduta\n",
       "0      S  bianco    4.99      NO\n",
       "1      M  bianco   19.99      SI\n",
       "2     XL  bianco   12.49      NO\n",
       "3     XL  bianco   14.99      NO\n",
       "4      S  bianco   14.99      SI\n",
       "5      S   verde    7.99      NO\n",
       "6      M   verde    4.99      SI\n",
       "7      L   verde   12.49      NO\n",
       "8     XL  bianco   12.49      NO\n",
       "9      M   verde   19.99      NO"
      ]
     },
     "execution_count": 4,
     "metadata": {},
     "output_type": "execute_result"
    }
   ],
   "source": [
    "BASE_URL = \"https://raw.githubusercontent.com/ProfAI/machine-learning-fondamenti/refs/heads/main/datasets/\"\n",
    "\n",
    "df = pd.read_csv(BASE_URL + \"shirts_sold.csv\", index_col=0)\n",
    "\n",
    "df.head(10)"
   ]
  },
  {
   "cell_type": "code",
   "execution_count": 5,
   "metadata": {},
   "outputs": [
    {
     "data": {
      "application/vnd.microsoft.datawrangler.viewer.v0+json": {
       "columns": [
        {
         "name": "index",
         "rawType": "int64",
         "type": "integer"
        },
        {
         "name": "taglia",
         "rawType": "int64",
         "type": "integer"
        },
        {
         "name": "colore",
         "rawType": "object",
         "type": "string"
        },
        {
         "name": "prezzo",
         "rawType": "float64",
         "type": "float"
        },
        {
         "name": "venduta",
         "rawType": "object",
         "type": "string"
        }
       ],
       "conversionMethod": "pd.DataFrame",
       "ref": "10ae023d-2b8e-47ea-99da-d742f37aeea0",
       "rows": [
        [
         "0",
         "0",
         "bianco",
         "4.99",
         "NO"
        ],
        [
         "1",
         "1",
         "bianco",
         "19.99",
         "SI"
        ],
        [
         "2",
         "2",
         "bianco",
         "12.49",
         "NO"
        ],
        [
         "3",
         "2",
         "bianco",
         "14.99",
         "NO"
        ],
        [
         "4",
         "0",
         "bianco",
         "14.99",
         "SI"
        ],
        [
         "5",
         "0",
         "verde",
         "7.99",
         "NO"
        ],
        [
         "6",
         "1",
         "verde",
         "4.99",
         "SI"
        ],
        [
         "7",
         "3",
         "verde",
         "12.49",
         "NO"
        ],
        [
         "8",
         "2",
         "bianco",
         "12.49",
         "NO"
        ],
        [
         "9",
         "1",
         "verde",
         "19.99",
         "NO"
        ]
       ],
       "shape": {
        "columns": 4,
        "rows": 10
       }
      },
      "text/html": [
       "<div>\n",
       "<style scoped>\n",
       "    .dataframe tbody tr th:only-of-type {\n",
       "        vertical-align: middle;\n",
       "    }\n",
       "\n",
       "    .dataframe tbody tr th {\n",
       "        vertical-align: top;\n",
       "    }\n",
       "\n",
       "    .dataframe thead th {\n",
       "        text-align: right;\n",
       "    }\n",
       "</style>\n",
       "<table border=\"1\" class=\"dataframe\">\n",
       "  <thead>\n",
       "    <tr style=\"text-align: right;\">\n",
       "      <th></th>\n",
       "      <th>taglia</th>\n",
       "      <th>colore</th>\n",
       "      <th>prezzo</th>\n",
       "      <th>venduta</th>\n",
       "    </tr>\n",
       "  </thead>\n",
       "  <tbody>\n",
       "    <tr>\n",
       "      <th>0</th>\n",
       "      <td>0</td>\n",
       "      <td>bianco</td>\n",
       "      <td>4.99</td>\n",
       "      <td>NO</td>\n",
       "    </tr>\n",
       "    <tr>\n",
       "      <th>1</th>\n",
       "      <td>1</td>\n",
       "      <td>bianco</td>\n",
       "      <td>19.99</td>\n",
       "      <td>SI</td>\n",
       "    </tr>\n",
       "    <tr>\n",
       "      <th>2</th>\n",
       "      <td>2</td>\n",
       "      <td>bianco</td>\n",
       "      <td>12.49</td>\n",
       "      <td>NO</td>\n",
       "    </tr>\n",
       "    <tr>\n",
       "      <th>3</th>\n",
       "      <td>2</td>\n",
       "      <td>bianco</td>\n",
       "      <td>14.99</td>\n",
       "      <td>NO</td>\n",
       "    </tr>\n",
       "    <tr>\n",
       "      <th>4</th>\n",
       "      <td>0</td>\n",
       "      <td>bianco</td>\n",
       "      <td>14.99</td>\n",
       "      <td>SI</td>\n",
       "    </tr>\n",
       "    <tr>\n",
       "      <th>5</th>\n",
       "      <td>0</td>\n",
       "      <td>verde</td>\n",
       "      <td>7.99</td>\n",
       "      <td>NO</td>\n",
       "    </tr>\n",
       "    <tr>\n",
       "      <th>6</th>\n",
       "      <td>1</td>\n",
       "      <td>verde</td>\n",
       "      <td>4.99</td>\n",
       "      <td>SI</td>\n",
       "    </tr>\n",
       "    <tr>\n",
       "      <th>7</th>\n",
       "      <td>3</td>\n",
       "      <td>verde</td>\n",
       "      <td>12.49</td>\n",
       "      <td>NO</td>\n",
       "    </tr>\n",
       "    <tr>\n",
       "      <th>8</th>\n",
       "      <td>2</td>\n",
       "      <td>bianco</td>\n",
       "      <td>12.49</td>\n",
       "      <td>NO</td>\n",
       "    </tr>\n",
       "    <tr>\n",
       "      <th>9</th>\n",
       "      <td>1</td>\n",
       "      <td>verde</td>\n",
       "      <td>19.99</td>\n",
       "      <td>NO</td>\n",
       "    </tr>\n",
       "  </tbody>\n",
       "</table>\n",
       "</div>"
      ],
      "text/plain": [
       "   taglia  colore  prezzo venduta\n",
       "0       0  bianco    4.99      NO\n",
       "1       1  bianco   19.99      SI\n",
       "2       2  bianco   12.49      NO\n",
       "3       2  bianco   14.99      NO\n",
       "4       0  bianco   14.99      SI\n",
       "5       0   verde    7.99      NO\n",
       "6       1   verde    4.99      SI\n",
       "7       3   verde   12.49      NO\n",
       "8       2  bianco   12.49      NO\n",
       "9       1   verde   19.99      NO"
      ]
     },
     "execution_count": 5,
     "metadata": {},
     "output_type": "execute_result"
    }
   ],
   "source": [
    "#define basic maps and apply ordinal encoding:\n",
    "\n",
    "size_map = {size: i for i, size in enumerate(df['taglia'].unique())}\n",
    "df['taglia'] = df['taglia'].map(size_map)\n",
    "\n",
    "df.head(10)"
   ]
  },
  {
   "cell_type": "code",
   "execution_count": 6,
   "metadata": {},
   "outputs": [
    {
     "data": {
      "application/vnd.microsoft.datawrangler.viewer.v0+json": {
       "columns": [
        {
         "name": "index",
         "rawType": "int64",
         "type": "integer"
        },
        {
         "name": "taglia",
         "rawType": "int64",
         "type": "integer"
        },
        {
         "name": "prezzo",
         "rawType": "float64",
         "type": "float"
        },
        {
         "name": "colore_bianco",
         "rawType": "bool",
         "type": "boolean"
        },
        {
         "name": "colore_rosso",
         "rawType": "bool",
         "type": "boolean"
        },
        {
         "name": "colore_verde",
         "rawType": "bool",
         "type": "boolean"
        },
        {
         "name": "venduta",
         "rawType": "object",
         "type": "string"
        }
       ],
       "conversionMethod": "pd.DataFrame",
       "ref": "a8393338-f0a2-409a-a042-5b2b43181a2b",
       "rows": [
        [
         "0",
         "0",
         "4.99",
         "True",
         "False",
         "False",
         "NO"
        ],
        [
         "1",
         "1",
         "19.99",
         "True",
         "False",
         "False",
         "SI"
        ],
        [
         "2",
         "2",
         "12.49",
         "True",
         "False",
         "False",
         "NO"
        ],
        [
         "3",
         "2",
         "14.99",
         "True",
         "False",
         "False",
         "NO"
        ],
        [
         "4",
         "0",
         "14.99",
         "True",
         "False",
         "False",
         "SI"
        ],
        [
         "5",
         "0",
         "7.99",
         "False",
         "False",
         "True",
         "NO"
        ],
        [
         "6",
         "1",
         "4.99",
         "False",
         "False",
         "True",
         "SI"
        ],
        [
         "7",
         "3",
         "12.49",
         "False",
         "False",
         "True",
         "NO"
        ],
        [
         "8",
         "2",
         "12.49",
         "True",
         "False",
         "False",
         "NO"
        ],
        [
         "9",
         "1",
         "19.99",
         "False",
         "False",
         "True",
         "NO"
        ]
       ],
       "shape": {
        "columns": 6,
        "rows": 10
       }
      },
      "text/html": [
       "<div>\n",
       "<style scoped>\n",
       "    .dataframe tbody tr th:only-of-type {\n",
       "        vertical-align: middle;\n",
       "    }\n",
       "\n",
       "    .dataframe tbody tr th {\n",
       "        vertical-align: top;\n",
       "    }\n",
       "\n",
       "    .dataframe thead th {\n",
       "        text-align: right;\n",
       "    }\n",
       "</style>\n",
       "<table border=\"1\" class=\"dataframe\">\n",
       "  <thead>\n",
       "    <tr style=\"text-align: right;\">\n",
       "      <th></th>\n",
       "      <th>taglia</th>\n",
       "      <th>prezzo</th>\n",
       "      <th>colore_bianco</th>\n",
       "      <th>colore_rosso</th>\n",
       "      <th>colore_verde</th>\n",
       "      <th>venduta</th>\n",
       "    </tr>\n",
       "  </thead>\n",
       "  <tbody>\n",
       "    <tr>\n",
       "      <th>0</th>\n",
       "      <td>0</td>\n",
       "      <td>4.99</td>\n",
       "      <td>True</td>\n",
       "      <td>False</td>\n",
       "      <td>False</td>\n",
       "      <td>NO</td>\n",
       "    </tr>\n",
       "    <tr>\n",
       "      <th>1</th>\n",
       "      <td>1</td>\n",
       "      <td>19.99</td>\n",
       "      <td>True</td>\n",
       "      <td>False</td>\n",
       "      <td>False</td>\n",
       "      <td>SI</td>\n",
       "    </tr>\n",
       "    <tr>\n",
       "      <th>2</th>\n",
       "      <td>2</td>\n",
       "      <td>12.49</td>\n",
       "      <td>True</td>\n",
       "      <td>False</td>\n",
       "      <td>False</td>\n",
       "      <td>NO</td>\n",
       "    </tr>\n",
       "    <tr>\n",
       "      <th>3</th>\n",
       "      <td>2</td>\n",
       "      <td>14.99</td>\n",
       "      <td>True</td>\n",
       "      <td>False</td>\n",
       "      <td>False</td>\n",
       "      <td>NO</td>\n",
       "    </tr>\n",
       "    <tr>\n",
       "      <th>4</th>\n",
       "      <td>0</td>\n",
       "      <td>14.99</td>\n",
       "      <td>True</td>\n",
       "      <td>False</td>\n",
       "      <td>False</td>\n",
       "      <td>SI</td>\n",
       "    </tr>\n",
       "    <tr>\n",
       "      <th>5</th>\n",
       "      <td>0</td>\n",
       "      <td>7.99</td>\n",
       "      <td>False</td>\n",
       "      <td>False</td>\n",
       "      <td>True</td>\n",
       "      <td>NO</td>\n",
       "    </tr>\n",
       "    <tr>\n",
       "      <th>6</th>\n",
       "      <td>1</td>\n",
       "      <td>4.99</td>\n",
       "      <td>False</td>\n",
       "      <td>False</td>\n",
       "      <td>True</td>\n",
       "      <td>SI</td>\n",
       "    </tr>\n",
       "    <tr>\n",
       "      <th>7</th>\n",
       "      <td>3</td>\n",
       "      <td>12.49</td>\n",
       "      <td>False</td>\n",
       "      <td>False</td>\n",
       "      <td>True</td>\n",
       "      <td>NO</td>\n",
       "    </tr>\n",
       "    <tr>\n",
       "      <th>8</th>\n",
       "      <td>2</td>\n",
       "      <td>12.49</td>\n",
       "      <td>True</td>\n",
       "      <td>False</td>\n",
       "      <td>False</td>\n",
       "      <td>NO</td>\n",
       "    </tr>\n",
       "    <tr>\n",
       "      <th>9</th>\n",
       "      <td>1</td>\n",
       "      <td>19.99</td>\n",
       "      <td>False</td>\n",
       "      <td>False</td>\n",
       "      <td>True</td>\n",
       "      <td>NO</td>\n",
       "    </tr>\n",
       "  </tbody>\n",
       "</table>\n",
       "</div>"
      ],
      "text/plain": [
       "   taglia  prezzo  colore_bianco  colore_rosso  colore_verde venduta\n",
       "0       0    4.99           True         False         False      NO\n",
       "1       1   19.99           True         False         False      SI\n",
       "2       2   12.49           True         False         False      NO\n",
       "3       2   14.99           True         False         False      NO\n",
       "4       0   14.99           True         False         False      SI\n",
       "5       0    7.99          False         False          True      NO\n",
       "6       1    4.99          False         False          True      SI\n",
       "7       3   12.49          False         False          True      NO\n",
       "8       2   12.49           True         False         False      NO\n",
       "9       1   19.99          False         False          True      NO"
      ]
     },
     "execution_count": 6,
     "metadata": {},
     "output_type": "execute_result"
    }
   ],
   "source": [
    "#one hot enconding con pandas\n",
    "\n",
    "df = pd.get_dummies(df, columns=['colore'])\n",
    "\n",
    "venduta = df['venduta']\n",
    "df.drop('venduta', axis=1, inplace=True)\n",
    "df = pd.concat([df, venduta], axis=1)\n",
    "\n",
    "df.head(10)"
   ]
  },
  {
   "cell_type": "code",
   "execution_count": null,
   "metadata": {},
   "outputs": [
    {
     "data": {
      "application/vnd.microsoft.datawrangler.viewer.v0+json": {
       "columns": [
        {
         "name": "index",
         "rawType": "int64",
         "type": "integer"
        },
        {
         "name": "taglia",
         "rawType": "int64",
         "type": "integer"
        },
        {
         "name": "prezzo",
         "rawType": "float64",
         "type": "float"
        },
        {
         "name": "colore_bianco",
         "rawType": "bool",
         "type": "boolean"
        },
        {
         "name": "colore_rosso",
         "rawType": "bool",
         "type": "boolean"
        },
        {
         "name": "colore_verde",
         "rawType": "bool",
         "type": "boolean"
        },
        {
         "name": "venduta",
         "rawType": "int64",
         "type": "integer"
        }
       ],
       "conversionMethod": "pd.DataFrame",
       "ref": "22fcb92c-50da-4ddc-9faa-64577cc931ea",
       "rows": [
        [
         "0",
         "0",
         "4.99",
         "True",
         "False",
         "False",
         "0"
        ],
        [
         "1",
         "1",
         "19.99",
         "True",
         "False",
         "False",
         "1"
        ],
        [
         "2",
         "2",
         "12.49",
         "True",
         "False",
         "False",
         "0"
        ],
        [
         "3",
         "2",
         "14.99",
         "True",
         "False",
         "False",
         "0"
        ],
        [
         "4",
         "0",
         "14.99",
         "True",
         "False",
         "False",
         "1"
        ]
       ],
       "shape": {
        "columns": 6,
        "rows": 5
       }
      },
      "text/html": [
       "<div>\n",
       "<style scoped>\n",
       "    .dataframe tbody tr th:only-of-type {\n",
       "        vertical-align: middle;\n",
       "    }\n",
       "\n",
       "    .dataframe tbody tr th {\n",
       "        vertical-align: top;\n",
       "    }\n",
       "\n",
       "    .dataframe thead th {\n",
       "        text-align: right;\n",
       "    }\n",
       "</style>\n",
       "<table border=\"1\" class=\"dataframe\">\n",
       "  <thead>\n",
       "    <tr style=\"text-align: right;\">\n",
       "      <th></th>\n",
       "      <th>taglia</th>\n",
       "      <th>prezzo</th>\n",
       "      <th>colore_bianco</th>\n",
       "      <th>colore_rosso</th>\n",
       "      <th>colore_verde</th>\n",
       "      <th>venduta</th>\n",
       "    </tr>\n",
       "  </thead>\n",
       "  <tbody>\n",
       "    <tr>\n",
       "      <th>0</th>\n",
       "      <td>0</td>\n",
       "      <td>4.99</td>\n",
       "      <td>True</td>\n",
       "      <td>False</td>\n",
       "      <td>False</td>\n",
       "      <td>0</td>\n",
       "    </tr>\n",
       "    <tr>\n",
       "      <th>1</th>\n",
       "      <td>1</td>\n",
       "      <td>19.99</td>\n",
       "      <td>True</td>\n",
       "      <td>False</td>\n",
       "      <td>False</td>\n",
       "      <td>1</td>\n",
       "    </tr>\n",
       "    <tr>\n",
       "      <th>2</th>\n",
       "      <td>2</td>\n",
       "      <td>12.49</td>\n",
       "      <td>True</td>\n",
       "      <td>False</td>\n",
       "      <td>False</td>\n",
       "      <td>0</td>\n",
       "    </tr>\n",
       "    <tr>\n",
       "      <th>3</th>\n",
       "      <td>2</td>\n",
       "      <td>14.99</td>\n",
       "      <td>True</td>\n",
       "      <td>False</td>\n",
       "      <td>False</td>\n",
       "      <td>0</td>\n",
       "    </tr>\n",
       "    <tr>\n",
       "      <th>4</th>\n",
       "      <td>0</td>\n",
       "      <td>14.99</td>\n",
       "      <td>True</td>\n",
       "      <td>False</td>\n",
       "      <td>False</td>\n",
       "      <td>1</td>\n",
       "    </tr>\n",
       "  </tbody>\n",
       "</table>\n",
       "</div>"
      ],
      "text/plain": [
       "   taglia  prezzo  colore_bianco  colore_rosso  colore_verde  venduta\n",
       "0       0    4.99           True         False         False        0\n",
       "1       1   19.99           True         False         False        1\n",
       "2       2   12.49           True         False         False        0\n",
       "3       2   14.99           True         False         False        0\n",
       "4       0   14.99           True         False         False        1"
      ]
     },
     "execution_count": 7,
     "metadata": {},
     "output_type": "execute_result"
    }
   ],
   "source": [
    "#label enconding con pandas (variabili categoriche sconnesse)\n",
    "\n",
    "sold_map = {'NO': 0, 'SI': 1}\n",
    "\n",
    "df['venduta'] = df['venduta'].map(sold_map)\n",
    "\n",
    "#eventualmente gestibile con sklearn.preprocessing.LabelEncoder\n",
    "\n",
    "df.head()"
   ]
  },
  {
   "cell_type": "code",
   "execution_count": 10,
   "metadata": {},
   "outputs": [
    {
     "data": {
      "application/vnd.microsoft.datawrangler.viewer.v0+json": {
       "columns": [
        {
         "name": "index",
         "rawType": "int64",
         "type": "integer"
        },
        {
         "name": "taglia",
         "rawType": "int64",
         "type": "integer"
        },
        {
         "name": "prezzo",
         "rawType": "float64",
         "type": "float"
        },
        {
         "name": "colore_bianco",
         "rawType": "bool",
         "type": "boolean"
        },
        {
         "name": "colore_rosso",
         "rawType": "bool",
         "type": "boolean"
        },
        {
         "name": "colore_verde",
         "rawType": "bool",
         "type": "boolean"
        },
        {
         "name": "venduta",
         "rawType": "int64",
         "type": "integer"
        }
       ],
       "conversionMethod": "pd.DataFrame",
       "ref": "34801c46-b77b-477f-94c7-b0704e2e9225",
       "rows": [
        [
         "0",
         "0",
         "4.99",
         "True",
         "False",
         "False",
         "0"
        ],
        [
         "1",
         "1",
         "19.99",
         "True",
         "False",
         "False",
         "1"
        ],
        [
         "2",
         "2",
         "12.49",
         "True",
         "False",
         "False",
         "0"
        ],
        [
         "3",
         "2",
         "14.99",
         "True",
         "False",
         "False",
         "0"
        ],
        [
         "4",
         "0",
         "14.99",
         "True",
         "False",
         "False",
         "1"
        ],
        [
         "5",
         "0",
         "7.99",
         "False",
         "False",
         "True",
         "0"
        ],
        [
         "6",
         "1",
         "4.99",
         "False",
         "False",
         "True",
         "1"
        ],
        [
         "7",
         "3",
         "12.49",
         "False",
         "False",
         "True",
         "0"
        ],
        [
         "8",
         "2",
         "12.49",
         "True",
         "False",
         "False",
         "0"
        ],
        [
         "9",
         "1",
         "19.99",
         "False",
         "False",
         "True",
         "0"
        ]
       ],
       "shape": {
        "columns": 6,
        "rows": 10
       }
      },
      "text/html": [
       "<div>\n",
       "<style scoped>\n",
       "    .dataframe tbody tr th:only-of-type {\n",
       "        vertical-align: middle;\n",
       "    }\n",
       "\n",
       "    .dataframe tbody tr th {\n",
       "        vertical-align: top;\n",
       "    }\n",
       "\n",
       "    .dataframe thead th {\n",
       "        text-align: right;\n",
       "    }\n",
       "</style>\n",
       "<table border=\"1\" class=\"dataframe\">\n",
       "  <thead>\n",
       "    <tr style=\"text-align: right;\">\n",
       "      <th></th>\n",
       "      <th>taglia</th>\n",
       "      <th>prezzo</th>\n",
       "      <th>colore_bianco</th>\n",
       "      <th>colore_rosso</th>\n",
       "      <th>colore_verde</th>\n",
       "      <th>venduta</th>\n",
       "    </tr>\n",
       "  </thead>\n",
       "  <tbody>\n",
       "    <tr>\n",
       "      <th>0</th>\n",
       "      <td>0</td>\n",
       "      <td>4.99</td>\n",
       "      <td>True</td>\n",
       "      <td>False</td>\n",
       "      <td>False</td>\n",
       "      <td>0</td>\n",
       "    </tr>\n",
       "    <tr>\n",
       "      <th>1</th>\n",
       "      <td>1</td>\n",
       "      <td>19.99</td>\n",
       "      <td>True</td>\n",
       "      <td>False</td>\n",
       "      <td>False</td>\n",
       "      <td>1</td>\n",
       "    </tr>\n",
       "    <tr>\n",
       "      <th>2</th>\n",
       "      <td>2</td>\n",
       "      <td>12.49</td>\n",
       "      <td>True</td>\n",
       "      <td>False</td>\n",
       "      <td>False</td>\n",
       "      <td>0</td>\n",
       "    </tr>\n",
       "    <tr>\n",
       "      <th>3</th>\n",
       "      <td>2</td>\n",
       "      <td>14.99</td>\n",
       "      <td>True</td>\n",
       "      <td>False</td>\n",
       "      <td>False</td>\n",
       "      <td>0</td>\n",
       "    </tr>\n",
       "    <tr>\n",
       "      <th>4</th>\n",
       "      <td>0</td>\n",
       "      <td>14.99</td>\n",
       "      <td>True</td>\n",
       "      <td>False</td>\n",
       "      <td>False</td>\n",
       "      <td>1</td>\n",
       "    </tr>\n",
       "    <tr>\n",
       "      <th>5</th>\n",
       "      <td>0</td>\n",
       "      <td>7.99</td>\n",
       "      <td>False</td>\n",
       "      <td>False</td>\n",
       "      <td>True</td>\n",
       "      <td>0</td>\n",
       "    </tr>\n",
       "    <tr>\n",
       "      <th>6</th>\n",
       "      <td>1</td>\n",
       "      <td>4.99</td>\n",
       "      <td>False</td>\n",
       "      <td>False</td>\n",
       "      <td>True</td>\n",
       "      <td>1</td>\n",
       "    </tr>\n",
       "    <tr>\n",
       "      <th>7</th>\n",
       "      <td>3</td>\n",
       "      <td>12.49</td>\n",
       "      <td>False</td>\n",
       "      <td>False</td>\n",
       "      <td>True</td>\n",
       "      <td>0</td>\n",
       "    </tr>\n",
       "    <tr>\n",
       "      <th>8</th>\n",
       "      <td>2</td>\n",
       "      <td>12.49</td>\n",
       "      <td>True</td>\n",
       "      <td>False</td>\n",
       "      <td>False</td>\n",
       "      <td>0</td>\n",
       "    </tr>\n",
       "    <tr>\n",
       "      <th>9</th>\n",
       "      <td>1</td>\n",
       "      <td>19.99</td>\n",
       "      <td>False</td>\n",
       "      <td>False</td>\n",
       "      <td>True</td>\n",
       "      <td>0</td>\n",
       "    </tr>\n",
       "  </tbody>\n",
       "</table>\n",
       "</div>"
      ],
      "text/plain": [
       "   taglia  prezzo  colore_bianco  colore_rosso  colore_verde  venduta\n",
       "0       0    4.99           True         False         False        0\n",
       "1       1   19.99           True         False         False        1\n",
       "2       2   12.49           True         False         False        0\n",
       "3       2   14.99           True         False         False        0\n",
       "4       0   14.99           True         False         False        1\n",
       "5       0    7.99          False         False          True        0\n",
       "6       1    4.99          False         False          True        1\n",
       "7       3   12.49          False         False          True        0\n",
       "8       2   12.49           True         False         False        0\n",
       "9       1   19.99          False         False          True        0"
      ]
     },
     "execution_count": 10,
     "metadata": {},
     "output_type": "execute_result"
    }
   ],
   "source": [
    "# Gestire valori mancanti\n",
    "\n",
    "if(df.isna().sum().sum() > 0): #ci sono valori mancanti?\n",
    "\n",
    "    df.loc[:, df.columns != \"venduta\"].fillna(df.mean(), inplace=True, ) #sostituisco i valori mancanti con la media, ignoro variabile dipendente\n",
    "\n",
    "#eventualmente gestibile con SimpleImputer di sklearn\n",
    "\n",
    "df.head(10)"
   ]
  },
  {
   "cell_type": "code",
   "execution_count": null,
   "metadata": {},
   "outputs": [
    {
     "data": {
      "application/vnd.microsoft.datawrangler.viewer.v0+json": {
       "columns": [
        {
         "name": "index",
         "rawType": "int64",
         "type": "integer"
        },
        {
         "name": "taglia",
         "rawType": "int64",
         "type": "integer"
        },
        {
         "name": "prezzo",
         "rawType": "float64",
         "type": "float"
        },
        {
         "name": "colore_bianco",
         "rawType": "bool",
         "type": "boolean"
        },
        {
         "name": "colore_rosso",
         "rawType": "bool",
         "type": "boolean"
        },
        {
         "name": "colore_verde",
         "rawType": "bool",
         "type": "boolean"
        },
        {
         "name": "venduta",
         "rawType": "int64",
         "type": "integer"
        }
       ],
       "conversionMethod": "pd.DataFrame",
       "ref": "6b4446d7-53e9-4db0-a8a9-fe4be321c043",
       "rows": [
        [
         "0",
         "0",
         "0.0",
         "True",
         "False",
         "False",
         "0"
        ],
        [
         "1",
         "1",
         "1.0",
         "True",
         "False",
         "False",
         "1"
        ],
        [
         "2",
         "2",
         "0.5000000000000001",
         "True",
         "False",
         "False",
         "0"
        ],
        [
         "3",
         "2",
         "0.6666666666666667",
         "True",
         "False",
         "False",
         "0"
        ],
        [
         "4",
         "0",
         "0.6666666666666667",
         "True",
         "False",
         "False",
         "1"
        ],
        [
         "5",
         "0",
         "0.2",
         "False",
         "False",
         "True",
         "0"
        ],
        [
         "6",
         "1",
         "0.0",
         "False",
         "False",
         "True",
         "1"
        ],
        [
         "7",
         "3",
         "0.5000000000000001",
         "False",
         "False",
         "True",
         "0"
        ],
        [
         "8",
         "2",
         "0.5000000000000001",
         "True",
         "False",
         "False",
         "0"
        ],
        [
         "9",
         "1",
         "1.0",
         "False",
         "False",
         "True",
         "0"
        ]
       ],
       "shape": {
        "columns": 6,
        "rows": 10
       }
      },
      "text/html": [
       "<div>\n",
       "<style scoped>\n",
       "    .dataframe tbody tr th:only-of-type {\n",
       "        vertical-align: middle;\n",
       "    }\n",
       "\n",
       "    .dataframe tbody tr th {\n",
       "        vertical-align: top;\n",
       "    }\n",
       "\n",
       "    .dataframe thead th {\n",
       "        text-align: right;\n",
       "    }\n",
       "</style>\n",
       "<table border=\"1\" class=\"dataframe\">\n",
       "  <thead>\n",
       "    <tr style=\"text-align: right;\">\n",
       "      <th></th>\n",
       "      <th>taglia</th>\n",
       "      <th>prezzo</th>\n",
       "      <th>colore_bianco</th>\n",
       "      <th>colore_rosso</th>\n",
       "      <th>colore_verde</th>\n",
       "      <th>venduta</th>\n",
       "    </tr>\n",
       "  </thead>\n",
       "  <tbody>\n",
       "    <tr>\n",
       "      <th>0</th>\n",
       "      <td>0</td>\n",
       "      <td>0.000000</td>\n",
       "      <td>True</td>\n",
       "      <td>False</td>\n",
       "      <td>False</td>\n",
       "      <td>0</td>\n",
       "    </tr>\n",
       "    <tr>\n",
       "      <th>1</th>\n",
       "      <td>1</td>\n",
       "      <td>1.000000</td>\n",
       "      <td>True</td>\n",
       "      <td>False</td>\n",
       "      <td>False</td>\n",
       "      <td>1</td>\n",
       "    </tr>\n",
       "    <tr>\n",
       "      <th>2</th>\n",
       "      <td>2</td>\n",
       "      <td>0.500000</td>\n",
       "      <td>True</td>\n",
       "      <td>False</td>\n",
       "      <td>False</td>\n",
       "      <td>0</td>\n",
       "    </tr>\n",
       "    <tr>\n",
       "      <th>3</th>\n",
       "      <td>2</td>\n",
       "      <td>0.666667</td>\n",
       "      <td>True</td>\n",
       "      <td>False</td>\n",
       "      <td>False</td>\n",
       "      <td>0</td>\n",
       "    </tr>\n",
       "    <tr>\n",
       "      <th>4</th>\n",
       "      <td>0</td>\n",
       "      <td>0.666667</td>\n",
       "      <td>True</td>\n",
       "      <td>False</td>\n",
       "      <td>False</td>\n",
       "      <td>1</td>\n",
       "    </tr>\n",
       "    <tr>\n",
       "      <th>5</th>\n",
       "      <td>0</td>\n",
       "      <td>0.200000</td>\n",
       "      <td>False</td>\n",
       "      <td>False</td>\n",
       "      <td>True</td>\n",
       "      <td>0</td>\n",
       "    </tr>\n",
       "    <tr>\n",
       "      <th>6</th>\n",
       "      <td>1</td>\n",
       "      <td>0.000000</td>\n",
       "      <td>False</td>\n",
       "      <td>False</td>\n",
       "      <td>True</td>\n",
       "      <td>1</td>\n",
       "    </tr>\n",
       "    <tr>\n",
       "      <th>7</th>\n",
       "      <td>3</td>\n",
       "      <td>0.500000</td>\n",
       "      <td>False</td>\n",
       "      <td>False</td>\n",
       "      <td>True</td>\n",
       "      <td>0</td>\n",
       "    </tr>\n",
       "    <tr>\n",
       "      <th>8</th>\n",
       "      <td>2</td>\n",
       "      <td>0.500000</td>\n",
       "      <td>True</td>\n",
       "      <td>False</td>\n",
       "      <td>False</td>\n",
       "      <td>0</td>\n",
       "    </tr>\n",
       "    <tr>\n",
       "      <th>9</th>\n",
       "      <td>1</td>\n",
       "      <td>1.000000</td>\n",
       "      <td>False</td>\n",
       "      <td>False</td>\n",
       "      <td>True</td>\n",
       "      <td>0</td>\n",
       "    </tr>\n",
       "  </tbody>\n",
       "</table>\n",
       "</div>"
      ],
      "text/plain": [
       "   taglia    prezzo  colore_bianco  colore_rosso  colore_verde  venduta\n",
       "0       0  0.000000           True         False         False        0\n",
       "1       1  1.000000           True         False         False        1\n",
       "2       2  0.500000           True         False         False        0\n",
       "3       2  0.666667           True         False         False        0\n",
       "4       0  0.666667           True         False         False        1\n",
       "5       0  0.200000          False         False          True        0\n",
       "6       1  0.000000          False         False          True        1\n",
       "7       3  0.500000          False         False          True        0\n",
       "8       2  0.500000           True         False         False        0\n",
       "9       1  1.000000          False         False          True        0"
      ]
     },
     "execution_count": 14,
     "metadata": {},
     "output_type": "execute_result"
    }
   ],
   "source": [
    "#normalizzazione delle variabili continue\n",
    "\n",
    "df['prezzo'] = (df['prezzo'] - df['prezzo'].min()) / (df['prezzo'].max() - df['prezzo'].min()) #normalizzazione min-max\n",
    "\n",
    "#df['prezzo'] = (df['prezzo'] - df['prezzo'].mean()) / (df['prezzo'].std()) #normalizzazione standard (standardizzazione)\n",
    "\n",
    "df.head(10)"
   ]
  }
 ],
 "metadata": {
  "kernelspec": {
   "display_name": ".venv",
   "language": "python",
   "name": "python3"
  },
  "language_info": {
   "codemirror_mode": {
    "name": "ipython",
    "version": 3
   },
   "file_extension": ".py",
   "mimetype": "text/x-python",
   "name": "python",
   "nbconvert_exporter": "python",
   "pygments_lexer": "ipython3",
   "version": "3.11.9"
  }
 },
 "nbformat": 4,
 "nbformat_minor": 2
}
