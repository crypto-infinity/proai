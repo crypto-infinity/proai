{
 "cells": [
  {
   "cell_type": "markdown",
   "metadata": {},
   "source": [
    "#Preprocessing"
   ]
  },
  {
   "cell_type": "markdown",
   "metadata": {},
   "source": [
    "## Gestione delle dipendenze\n",
    "\n",
    "Import Pandas per il preprocessing. Eventualmente utilizzabile SKLearn (scikit-learn)."
   ]
  },
  {
   "cell_type": "code",
   "execution_count": 5,
   "metadata": {},
   "outputs": [],
   "source": [
    "import pandas as pd\n",
    "import numpy as np\n",
    "\n",
    "from sklearn.preprocessing import StandardScaler, MinMaxScaler, OneHotEncoder, LabelEncoder"
   ]
  },
  {
   "cell_type": "markdown",
   "metadata": {},
   "source": [
    "## Import dei contenuti in Py (pandas.DataFrame)"
   ]
  },
  {
   "cell_type": "code",
   "execution_count": 7,
   "metadata": {},
   "outputs": [],
   "source": [
    "CSV = \"https://raw.githubusercontent.com/ProfAI/machine-learning-fondamenti/main/datasets/housing_dirty.csv\"\n",
    "\n",
    "df = pd.read_csv(CSV, index_col=0)\n",
    "\n",
    "df_columns = df.columns"
   ]
  },
  {
   "cell_type": "code",
   "execution_count": 8,
   "metadata": {},
   "outputs": [
    {
     "data": {
      "text/plain": [
       "(506, 14)"
      ]
     },
     "execution_count": 8,
     "metadata": {},
     "output_type": "execute_result"
    }
   ],
   "source": [
    "df.shape"
   ]
  },
  {
   "cell_type": "code",
   "execution_count": 10,
   "metadata": {},
   "outputs": [
    {
     "name": "stdout",
     "output_type": "stream",
     "text": [
      "CRIM\n",
      "HIGH         130\n",
      "LOW          127\n",
      "VERY HIGH    127\n",
      "MODERATE     122\n",
      "Name: count, dtype: int64\n",
      "CHAS\n",
      "NO     471\n",
      "YES     35\n",
      "Name: count, dtype: int64\n"
     ]
    }
   ],
   "source": [
    "for column in df.columns:\n",
    "    if(df[column].dtype == \"object\"):\n",
    "        print(df[column].value_counts())\n",
    "    "
   ]
  },
  {
   "cell_type": "code",
   "execution_count": 11,
   "metadata": {},
   "outputs": [
    {
     "name": "stdout",
     "output_type": "stream",
     "text": [
      "CRIM         0\n",
      "ZN           2\n",
      "INDUS        3\n",
      "CHAS         0\n",
      "NOX          7\n",
      "RM           5\n",
      "AGE          4\n",
      "DIS          5\n",
      "RAD          3\n",
      "TAX          2\n",
      "PTRATIO      5\n",
      "B            3\n",
      "LSTAT      199\n",
      "PRICE        4\n",
      "dtype: int64\n"
     ]
    }
   ],
   "source": [
    "print(df.isna().sum())"
   ]
  },
  {
   "cell_type": "code",
   "execution_count": 12,
   "metadata": {},
   "outputs": [
    {
     "name": "stdout",
     "output_type": "stream",
     "text": [
      "CRIM       0\n",
      "ZN         0\n",
      "INDUS      1\n",
      "CHAS       0\n",
      "NOX        4\n",
      "RM         0\n",
      "AGE        0\n",
      "DIS        1\n",
      "RAD        0\n",
      "TAX        0\n",
      "PTRATIO    3\n",
      "B          1\n",
      "PRICE      0\n",
      "dtype: int64\n"
     ]
    }
   ],
   "source": [
    "#remove columns with isna().sum() > 30%\n",
    "\n",
    "df = df.dropna(axis=1, thresh=df.shape[0]*0.7) #Almeno il 70% dei valori delle colonne deve essere non nulli\n",
    "\n",
    "df = df.dropna(thresh=df.shape[1]*0.75) #Almeno il 75% dei valori delle righe deve essere non nulli\n",
    " \n",
    "df = df.dropna(subset=[\"PRICE\"]) #Rimuoviamo le righe con valori nulli nella colonna PRICE\n",
    "\n",
    "\n",
    "print(df.isna().sum())"
   ]
  },
  {
   "cell_type": "code",
   "execution_count": 13,
   "metadata": {},
   "outputs": [
    {
     "name": "stdout",
     "output_type": "stream",
     "text": [
      "CRIM       0\n",
      "ZN         0\n",
      "INDUS      0\n",
      "CHAS       0\n",
      "NOX        0\n",
      "RM         0\n",
      "AGE        0\n",
      "DIS        0\n",
      "RAD        0\n",
      "TAX        0\n",
      "PTRATIO    0\n",
      "B          0\n",
      "PRICE      0\n",
      "dtype: int64\n"
     ]
    }
   ],
   "source": [
    "for column in df.columns: # Verifica se ci sono colonne con valori nulli e sostituisci i valori nulli con la moda o la media\n",
    "    if(column == \"PRICE\"):\n",
    "        continue\n",
    "    if df[column].dtype == \"object\": #verifica tipo di dato\n",
    "        replace_with = df[column].mode()[0]\n",
    "        df[column] = df[column].fillna(replace_with)\n",
    "    else:\n",
    "        replace_with = round(df[column].mean(), 1) #arrotondamento scelto in base ad altri valori del dataset\n",
    "        df[column] = df[column].fillna(replace_with)\n",
    "\n",
    "print(df.isna().sum())\n"
   ]
  },
  {
   "cell_type": "code",
   "execution_count": 14,
   "metadata": {},
   "outputs": [],
   "source": [
    "#Column CRIM -> ordering #LabelEncoding\n",
    "\n",
    "mapper = {\"LOW\":0, \"MODERATE\":1, \"HIGH\":2, \"VERY HIGH\":3}\n",
    "\n",
    "fmap = np.vectorize(lambda x: mapper[x])\n",
    "\n",
    "df[\"CRIM\"] = fmap(df[\"CRIM\"])"
   ]
  },
  {
   "cell_type": "code",
   "execution_count": null,
   "metadata": {},
   "outputs": [],
   "source": [
    "#trasformazione con ColumnTransformer:\n",
    "\n",
    "from sklearn.compose import ColumnTransformer #per applicare le trasformazioni alle colonne\n",
    "from sklearn.preprocessing import OneHotEncoder, StandardScaler, MinMaxScaler #per normalizzare i dati\n",
    "from sklearn.preprocessing import LabelEncoder #per trasformare le variabili categoriche in numeriche\n",
    "\n",
    "column_transformer = ColumnTransformer(\n",
    "    [\n",
    "        (\"onehot\", OneHotEncoder(), [\"CHAS\"]), #da non standardizzare\n",
    "        (\"scaler\", StandardScaler(), [\"CRIM\", \"ZN\", \"INDUS\", \"NOX\", \"RM\", \"AGE\", \"DIS\", \"RAD\", \"TAX\", \"PTRATIO\", \"B\"]) #non applicare sulla variabile da prevedere, da applicare solo sulle variabili continue e categoriche ordinali\n",
    "    ],\n",
    "    remainder=\"passthrough\"\n",
    ")\n",
    "\n",
    "df_test = column_transformer.fit_transform(df)\n",
    "\n",
    "df.shape\n"
   ]
  },
  {
   "cell_type": "code",
   "execution_count": null,
   "metadata": {},
   "outputs": [],
   "source": [
    "# Determina il numero di colonne generate\n",
    "\n",
    "onehot_columns = column_transformer.named_transformers_['onehot'].get_feature_names_out([\"CHAS\"])\n",
    "scaler_columns = [\"ZN\", \"INDUS\", \"NOX\", \"RM\", \"AGE\", \"DIS\", \"RAD\", \"TAX\", \"PTRATIO\", \"B\"]\n",
    "all_columns = list(onehot_columns) + [\"CRIM\"] + scaler_columns + [\"PRICE\"] \n",
    "\n",
    "print(all_columns)"
   ]
  },
  {
   "cell_type": "code",
   "execution_count": null,
   "metadata": {},
   "outputs": [],
   "source": [
    "df_new = pd.DataFrame(df_test, columns=all_columns)\n",
    "\n",
    "df_new.head(15)"
   ]
  }
 ],
 "metadata": {
  "kernelspec": {
   "display_name": ".venv",
   "language": "python",
   "name": "python3"
  },
  "language_info": {
   "codemirror_mode": {
    "name": "ipython",
    "version": 3
   },
   "file_extension": ".py",
   "mimetype": "text/x-python",
   "name": "python",
   "nbconvert_exporter": "python",
   "pygments_lexer": "ipython3",
   "version": "3.11.9"
  }
 },
 "nbformat": 4,
 "nbformat_minor": 2
}
